{
 "cells": [
  {
   "cell_type": "markdown",
   "id": "d545f938",
   "metadata": {},
   "source": [
    "### Python program to interchange first and last elements in a list\n",
    "Given a list, write a Python program to swap first and last element of the list.\n",
    "Examples: \n",
    "Input : [12, 35, 9, 56, 24]\n",
    "Output : [24, 35, 9, 56, 12]\n",
    "\n",
    "Input : [1, 2, 3]\n",
    "Output : [3, 2, 1]"
   ]
  },
  {
   "cell_type": "code",
   "execution_count": 3,
   "id": "218fe927",
   "metadata": {},
   "outputs": [
    {
     "data": {
      "text/plain": [
       "[5, 2, 3, 4, 1]"
      ]
     },
     "execution_count": 3,
     "metadata": {},
     "output_type": "execute_result"
    }
   ],
   "source": [
    "l1=[1,2,3,4,5]\n",
    "l1[0],l1[-1]=l1[-1],l1[0]\n",
    "l1"
   ]
  },
  {
   "cell_type": "code",
   "execution_count": 18,
   "id": "00e147a4",
   "metadata": {},
   "outputs": [
    {
     "name": "stdout",
     "output_type": "stream",
     "text": [
      "[9, 35, 12, 56, 24]\n"
     ]
    }
   ],
   "source": [
    "a=[12,35,9,56,24]\n",
    "\n",
    "length = len(a)\n",
    "length = len(b)\n",
    "\n",
    "temp = a[0]\n",
    "a[0] = a[length - 1]\n",
    "a[length - 1] = temp\n",
    "\n",
    "print(a)"
   ]
  },
  {
   "cell_type": "code",
   "execution_count": null,
   "id": "6789570b",
   "metadata": {},
   "outputs": [],
   "source": [
    "I = [12, 35, 9, 56, 24]\n",
    "p=I[-1]\n",
    "s=I.pop(0)\n",
    "q=I.pop()\n",
    "I.append(s)\n",
    "I.insert(0,p)\n",
    "print(I)\n"
   ]
  },
  {
   "cell_type": "markdown",
   "id": "b2b3c5c9",
   "metadata": {},
   "source": [
    "# WAP to find length of list\n",
    "The list is : [1, 4, 5, 7, 8]\n",
    "Length of list is : 5\n"
   ]
  },
  {
   "cell_type": "code",
   "execution_count": 9,
   "id": "24d4e2a9",
   "metadata": {},
   "outputs": [
    {
     "name": "stdout",
     "output_type": "stream",
     "text": [
      "Length of list is :  5\n"
     ]
    }
   ],
   "source": [
    "l1=[1, 4, 5, 7, 8]\n",
    "print(\"Length of list is : \",len(l1))"
   ]
  },
  {
   "cell_type": "code",
   "execution_count": 15,
   "id": "92438184",
   "metadata": {},
   "outputs": [
    {
     "name": "stdout",
     "output_type": "stream",
     "text": [
      "Length of list is :  7\n"
     ]
    }
   ],
   "source": [
    "l1=[1, 4, 5, 7, 8, 9]\n",
    "print(\"Length of list is : \",l1.index()+1)"
   ]
  },
  {
   "cell_type": "code",
   "execution_count": 11,
   "id": "965085ac",
   "metadata": {},
   "outputs": [
    {
     "name": "stdout",
     "output_type": "stream",
     "text": [
      "Length of list is :  5\n"
     ]
    }
   ],
   "source": [
    "l1=[1, 4, 5, 7, 8]\n",
    "count=0\n",
    "for i in l1:\n",
    "    count+=1\n",
    "print(\"Length of list is : \",count)"
   ]
  },
  {
   "cell_type": "markdown",
   "id": "9df4bcaa",
   "metadata": {},
   "source": [
    "# WAP to Check if element exists in list \n",
    "\n",
    "Checking if 4 exists in list : \n",
    "Element Exists\n"
   ]
  },
  {
   "cell_type": "code",
   "execution_count": 19,
   "id": "f3053001",
   "metadata": {},
   "outputs": [
    {
     "name": "stdout",
     "output_type": "stream",
     "text": [
      "Element Exists\n"
     ]
    }
   ],
   "source": [
    "l1=[1, 4, 5, 7, 8]\n",
    "n=4\n",
    "if 4 in l1:print(\"Element Exists\")"
   ]
  },
  {
   "cell_type": "code",
   "execution_count": 26,
   "id": "6e216754",
   "metadata": {},
   "outputs": [
    {
     "name": "stdout",
     "output_type": "stream",
     "text": [
      "Element Exists\n"
     ]
    }
   ],
   "source": [
    "l1=[1, 4, 5, 7, 8]\n",
    "for i in range(len(l1)):\n",
    "    if l1[i]==4:print(\"Element Exists\")"
   ]
  },
  {
   "cell_type": "markdown",
   "id": "bf899c08",
   "metadata": {},
   "source": [
    "# WAP to clear a list\n",
    "before clear: [6, 0, 4, 1]\n"
   ]
  },
  {
   "cell_type": "code",
   "execution_count": 33,
   "id": "d67ee707",
   "metadata": {},
   "outputs": [
    {
     "data": {
      "text/plain": [
       "[]"
      ]
     },
     "execution_count": 33,
     "metadata": {},
     "output_type": "execute_result"
    }
   ],
   "source": [
    "l1=[1, 4, 5, 7, 8]\n",
    "l1.clear()\n",
    "l1"
   ]
  },
  {
   "cell_type": "code",
   "execution_count": 38,
   "id": "295093b2",
   "metadata": {},
   "outputs": [
    {
     "data": {
      "text/plain": [
       "[]"
      ]
     },
     "execution_count": 38,
     "metadata": {},
     "output_type": "execute_result"
    }
   ],
   "source": [
    "l1=[1, 4, 5, 7, 8]\n",
    "for i in range (len(l1)):\n",
    "    l1.remove(l1[-1])\n",
    "l1"
   ]
  },
  {
   "cell_type": "code",
   "execution_count": 81,
   "id": "339ad5c0",
   "metadata": {},
   "outputs": [
    {
     "data": {
      "text/plain": [
       "[]"
      ]
     },
     "execution_count": 81,
     "metadata": {},
     "output_type": "execute_result"
    }
   ],
   "source": [
    "l1=[1, 4, 5, 7, 8]\n",
    "for i in range (len(l1)):\n",
    "    l1.pop()\n",
    "l1"
   ]
  },
  {
   "cell_type": "code",
   "execution_count": 84,
   "id": "6384b5ca",
   "metadata": {},
   "outputs": [
    {
     "data": {
      "text/plain": [
       "[]"
      ]
     },
     "execution_count": 84,
     "metadata": {},
     "output_type": "execute_result"
    }
   ],
   "source": [
    "l1=[1, 4, 5, 7, 8]\n",
    "l1=[]\n",
    "l1"
   ]
  },
  {
   "cell_type": "code",
   "execution_count": 85,
   "id": "7bc5438e",
   "metadata": {},
   "outputs": [
    {
     "data": {
      "text/plain": [
       "[]"
      ]
     },
     "execution_count": 85,
     "metadata": {},
     "output_type": "execute_result"
    }
   ],
   "source": [
    "l1=[1, 4, 5, 7, 8]\n",
    "l1*=0\n",
    "l1"
   ]
  },
  {
   "cell_type": "markdown",
   "id": "a085d6e1",
   "metadata": {},
   "source": [
    "# WAP to Reversing a List\n",
    "Input : list = [10, 11, 12, 13, 14, 15]\n",
    "Output : [15, 14, 13, 12, 11, 10]\n",
    " \n",
    "Input : list = [4, 5, 6, 7, 8, 9]\n",
    "Output : [9, 8, 7, 6, 5, 4]\n"
   ]
  },
  {
   "cell_type": "code",
   "execution_count": 44,
   "id": "d61f84c9",
   "metadata": {},
   "outputs": [
    {
     "data": {
      "text/plain": [
       "[15, 14, 13, 12, 11, 10]"
      ]
     },
     "execution_count": 44,
     "metadata": {},
     "output_type": "execute_result"
    }
   ],
   "source": [
    "l1 = [10, 11, 12, 13, 14, 15]\n",
    "l1.reverse()\n",
    "l1"
   ]
  },
  {
   "cell_type": "code",
   "execution_count": 45,
   "id": "9e803a86",
   "metadata": {},
   "outputs": [
    {
     "data": {
      "text/plain": [
       "[15, 14, 13, 12, 11, 10]"
      ]
     },
     "execution_count": 45,
     "metadata": {},
     "output_type": "execute_result"
    }
   ],
   "source": [
    "l1 = [10, 11, 12, 13, 14, 15]\n",
    "for i in range(len(l1)):\n",
    "    a=l1.pop()\n",
    "    l1.insert(i,a)\n",
    "l1"
   ]
  },
  {
   "cell_type": "code",
   "execution_count": 46,
   "id": "bd36e85c",
   "metadata": {},
   "outputs": [
    {
     "name": "stdout",
     "output_type": "stream",
     "text": [
      "[15, 14, 13, 12, 11, 10]\n"
     ]
    }
   ],
   "source": [
    "a=[10, 11, 12, 13, 14, 15]\n",
    "if len(a)%2!=0:\n",
    "    c=1\n",
    "    for i in range(round(len(a)/2)-1):\n",
    "            a[i]=a[i]+a[len(a)-c]\n",
    "            a[len(a)-c]=a[i]-a[len(a)-c]\n",
    "            a[i]=a[i]-a[len(a)-c]\n",
    "            c+=1\n",
    "else:\n",
    "    c=1\n",
    "    for i in range(round(len(a)/2)):\n",
    "            a[i]=a[i]+a[len(a)-c]\n",
    "            a[len(a)-c]=a[i]-a[len(a)-c]\n",
    "            a[i]=a[i]-a[len(a)-c]\n",
    "            c+=1\n",
    "print(a)\n"
   ]
  },
  {
   "cell_type": "markdown",
   "id": "db4486a3",
   "metadata": {},
   "source": [
    "# Given a list of numbers, write a Python program to find the sum of all the elements in the list.\n",
    "Example: \n",
    " \n",
    "Input: [12, 15, 3, 10]\n",
    "Output: 40\n",
    " \n",
    "Input: [17, 5, 3, 5]\n",
    "Output: 30\n"
   ]
  },
  {
   "cell_type": "code",
   "execution_count": 47,
   "id": "7d844659",
   "metadata": {},
   "outputs": [
    {
     "name": "stdout",
     "output_type": "stream",
     "text": [
      "40\n"
     ]
    }
   ],
   "source": [
    "l1=[12, 15, 3, 10]\n",
    "print(sum(l1))"
   ]
  },
  {
   "cell_type": "code",
   "execution_count": 48,
   "id": "4cf38873",
   "metadata": {},
   "outputs": [
    {
     "name": "stdout",
     "output_type": "stream",
     "text": [
      "40\n"
     ]
    }
   ],
   "source": [
    "l1=[12, 15, 3, 10]\n",
    "sum1=0\n",
    "for i in l1:\n",
    "    sum1+=i\n",
    "print(sum1)"
   ]
  },
  {
   "cell_type": "markdown",
   "id": "e23bc316",
   "metadata": {},
   "source": [
    "# Given a list of numbers, the task is to write a Python program to find the second largest number in the given list.\n",
    "Examples: \n",
    "Input: list1 = [10, 20, 4]\n",
    "Output: 10\n",
    "Input: list2 = [70, 11, 20, 4, 100]\n",
    "Output: 70\n"
   ]
  },
  {
   "cell_type": "code",
   "execution_count": 69,
   "id": "1a35ffa0",
   "metadata": {},
   "outputs": [
    {
     "data": {
      "text/plain": [
       "70"
      ]
     },
     "execution_count": 69,
     "metadata": {},
     "output_type": "execute_result"
    }
   ],
   "source": [
    "list1 = [70, 11, 20, 4, 100] \n",
    "list1.sort()\n",
    "list1[-2]"
   ]
  },
  {
   "cell_type": "code",
   "execution_count": 50,
   "id": "751fb2a3",
   "metadata": {},
   "outputs": [
    {
     "name": "stdout",
     "output_type": "stream",
     "text": [
      "70\n"
     ]
    }
   ],
   "source": [
    "list1 = [70, 11, 20, 4, 100] \n",
    "list2=list1\n",
    "list2.remove(max(list2))\n",
    "print(max(list2))"
   ]
  },
  {
   "cell_type": "code",
   "execution_count": 72,
   "id": "ce17ada3",
   "metadata": {},
   "outputs": [
    {
     "data": {
      "text/plain": [
       "70"
      ]
     },
     "execution_count": 72,
     "metadata": {},
     "output_type": "execute_result"
    }
   ],
   "source": [
    "list1 = [70, 11, 20, 4, 100, 100] \n",
    "list2=list(set(list1))\n",
    "list2.sort()\n",
    "list2.pop()\n",
    "list2[-1]"
   ]
  },
  {
   "cell_type": "markdown",
   "id": "3f467de4",
   "metadata": {},
   "source": [
    "# Given a list of integers, the task is to find N largest elements assuming size of list is greater than or equal o N.\n",
    "Examples :\n",
    "Input : [4, 5, 1, 2, 9] \n",
    "        N = 2\n",
    "Output :  [9, 5]\n",
    " \n",
    "Input : [81, 52, 45, 10, 3, 2, 96] \n",
    "        N = 3\n",
    "Output : [81, 96, 52]\n"
   ]
  },
  {
   "cell_type": "code",
   "execution_count": 80,
   "id": "89e6d00f",
   "metadata": {},
   "outputs": [
    {
     "name": "stdout",
     "output_type": "stream",
     "text": [
      "3\n"
     ]
    },
    {
     "data": {
      "text/plain": [
       "[52, 81, 96]"
      ]
     },
     "execution_count": 80,
     "metadata": {},
     "output_type": "execute_result"
    }
   ],
   "source": [
    "l1=[81, 52, 45, 10, 3, 2, 96] \n",
    "n=int(input())    #4\n",
    "l2=list(set(l1))\n",
    "l2.sort()\n",
    "l2[-(n):]"
   ]
  },
  {
   "cell_type": "code",
   "execution_count": 87,
   "id": "dc4ac407",
   "metadata": {},
   "outputs": [
    {
     "name": "stdout",
     "output_type": "stream",
     "text": [
      "4\n"
     ]
    },
    {
     "data": {
      "text/plain": [
       "[96, 81, 52, 45]"
      ]
     },
     "execution_count": 87,
     "metadata": {},
     "output_type": "execute_result"
    }
   ],
   "source": [
    "l1=[81, 52, 45, 10, 3, 2, 96] \n",
    "n=int(input())\n",
    "l2=list(set(l1))\n",
    "l2.sort()\n",
    "l3=[]\n",
    "for i in range(n):\n",
    "    a=l2.pop()\n",
    "    l3.append(a)\n",
    "l3\n",
    "    "
   ]
  },
  {
   "cell_type": "code",
   "execution_count": 89,
   "id": "4842d483",
   "metadata": {},
   "outputs": [
    {
     "name": "stdout",
     "output_type": "stream",
     "text": [
      "4\n"
     ]
    },
    {
     "data": {
      "text/plain": [
       "[45, 52, 81, 96]"
      ]
     },
     "execution_count": 89,
     "metadata": {},
     "output_type": "execute_result"
    }
   ],
   "source": [
    "l1=[81, 52, 45, 10, 3, 2, 96] \n",
    "n=int(input())\n",
    "l2=list(set(l1))\n",
    "l2.sort()\n",
    "l3=[]\n",
    "for i in range(len(l2)-n,len(l2)):\n",
    "    l3.append(l2[i])\n",
    "l3\n",
    "    "
   ]
  },
  {
   "cell_type": "code",
   "execution_count": 90,
   "id": "25f5f4ab",
   "metadata": {},
   "outputs": [
    {
     "name": "stdout",
     "output_type": "stream",
     "text": [
      "3\n",
      "[96, 81, 52]\n"
     ]
    }
   ],
   "source": [
    "n=int(input())\n",
    "l1=[81, 52, 45, 10, 3, 2, 96] \n",
    "l1=sorted(l1,reverse=True)\n",
    "\n",
    "l2=[]\n",
    "for i in range(n):\n",
    "    l2.append(l1[i])\n",
    "print(l2)\n"
   ]
  },
  {
   "cell_type": "markdown",
   "id": "b44a9af8",
   "metadata": {},
   "source": [
    "# Given a list of numbers, write a Python program to remove multiple elements from a list based on the given condition.\n",
    "Example: \n",
    "Input: [12, 15, 3, 10]\n",
    "Output: Remove = [12, 3], New_List = [15, 10]\n",
    " \n",
    "Input: [11, 5, 17, 18, 23, 50]\n",
    "Output: Remove = [1:5], New_list = [11, 50]\n"
   ]
  },
  {
   "cell_type": "code",
   "execution_count": 4,
   "id": "ba48db9e",
   "metadata": {},
   "outputs": [
    {
     "name": "stdout",
     "output_type": "stream",
     "text": [
      "New_list= [15, 10]\n"
     ]
    }
   ],
   "source": [
    "l1= [12, 15, 3, 10] \n",
    "Remove=[12,3]\n",
    "for r in Remove:\n",
    "    l1.remove(r)\n",
    "print(\"New_list=\",l1)"
   ]
  },
  {
   "cell_type": "code",
   "execution_count": 5,
   "id": "4e3f4e48",
   "metadata": {},
   "outputs": [
    {
     "name": "stdout",
     "output_type": "stream",
     "text": [
      "New_list= [15, 10]\n"
     ]
    }
   ],
   "source": [
    "l1= [12, 15, 3, 10] \n",
    "Remove=[12,3]\n",
    "for r in Remove:\n",
    "    i=l1.index(r)\n",
    "    l1.pop(i)\n",
    "print(\"New_list=\",l1)"
   ]
  },
  {
   "cell_type": "code",
   "execution_count": 26,
   "id": "aabef3d9",
   "metadata": {},
   "outputs": [
    {
     "name": "stdout",
     "output_type": "stream",
     "text": [
      "Remove = [1:5]\n",
      "New_list= [11, 50]\n"
     ]
    }
   ],
   "source": [
    "l1= [11, 5, 17, 18, 23, 50]\n",
    "ip=input(\"Remove = \")\n",
    "ip=ip.strip('[]')\n",
    "Remove=list(map(str,ip))\n",
    "if Remove[1]==\":\":\n",
    "    j1=int(Remove[0])\n",
    "    j2=int(Remove[2])\n",
    "    redu=0\n",
    "    for k in range(j1,j2):\n",
    "        l1.pop(k-redu)\n",
    "        redu+=1\n",
    "print(\"New_list=\",l1)\n"
   ]
  },
  {
   "cell_type": "markdown",
   "id": "e7e2e873",
   "metadata": {},
   "source": [
    "Input : lst = [15, 6, 7, 10, 12, 20, 10, 28, 10]\n",
    "         x = 10\n",
    "Output : 3 \n",
    "10 appears three times in given list.\n",
    " \n",
    "Input : lst = [8, 6, 8, 10, 8, 20, 10, 8, 8]\n",
    "        x = 16\n",
    "Output : 0\n"
   ]
  },
  {
   "cell_type": "code",
   "execution_count": 28,
   "id": "881689ed",
   "metadata": {},
   "outputs": [
    {
     "name": "stdout",
     "output_type": "stream",
     "text": [
      "Enter the number16\n"
     ]
    },
    {
     "data": {
      "text/plain": [
       "0"
      ]
     },
     "execution_count": 28,
     "metadata": {},
     "output_type": "execute_result"
    }
   ],
   "source": [
    "lst = [15, 6, 7, 10, 12, 20, 10, 28, 10]\n",
    "x=int(input(\"Enter the number\"))\n",
    "lst.count(x)"
   ]
  },
  {
   "cell_type": "code",
   "execution_count": 36,
   "id": "6f90311f",
   "metadata": {},
   "outputs": [
    {
     "name": "stdout",
     "output_type": "stream",
     "text": [
      "Enter the number12\n"
     ]
    },
    {
     "data": {
      "text/plain": [
       "1"
      ]
     },
     "execution_count": 36,
     "metadata": {},
     "output_type": "execute_result"
    }
   ],
   "source": [
    "lst = [15, 6, 7, 10, 12, 20, 10, 28, 10]\n",
    "x=int(input(\"Enter the number\"))\n",
    "count=0\n",
    "for y in lst:\n",
    "    if y==x:\n",
    "        count+=1\n",
    "count"
   ]
  },
  {
   "cell_type": "code",
   "execution_count": null,
   "id": "a889f5aa",
   "metadata": {},
   "outputs": [],
   "source": []
  },
  {
   "cell_type": "markdown",
   "id": "87f54055",
   "metadata": {},
   "source": [
    "# Given a list of integers with duplicate elements in it. The task to generate another list, which contains only the duplicate elements. In simple words, the new list should contain the elements which appear more than one.\n",
    "Examples : \n",
    "Input : list = [10, 20, 30, 20, 20, 30, 40, 50, -20, 60, 60, -20, -20]\n",
    "Output : output_list = [20, 30, -20, 60]\n",
    " \n",
    " \n",
    "Input :  list = [-1, 1, -1, 8]\n",
    "Output : output_list = [-1]\n"
   ]
  },
  {
   "cell_type": "code",
   "execution_count": 46,
   "id": "7d05251a",
   "metadata": {},
   "outputs": [
    {
     "name": "stdout",
     "output_type": "stream",
     "text": [
      "[-1]\n"
     ]
    }
   ],
   "source": [
    "list1 = [10, 20, 30, 20, 20, 30, 40, 50, -20, 60, 60, -20, -20]\n",
    "list2 = [-1, 1, -1, 8]\n",
    "#val=set(list1)\n",
    "val=set(list2)\n",
    "op=[]\n",
    "for i in val:\n",
    "    #j=list1.count(i)\n",
    "    j=list2.count(i)\n",
    "    if j>1:\n",
    "        op.append(i)\n",
    "print(op)"
   ]
  },
  {
   "cell_type": "code",
   "execution_count": null,
   "id": "1f71b728",
   "metadata": {},
   "outputs": [],
   "source": []
  },
  {
   "cell_type": "markdown",
   "id": "eadde35c",
   "metadata": {},
   "source": [
    "# Python program to find Cumulative sum of a list\n",
    "The problem statement asks to produce a new list whose i^{th} element will be equal to the sum of the (i + 1) elements.\n",
    "Examples : \n",
    " \n",
    "Input : list = [10, 20, 30, 40, 50]\n",
    "Output : [10, 30, 60, 100, 150]\n",
    " \n",
    "Input : list = [4, 10, 15, 18, 20]\n",
    "Output : [4, 14, 29, 47, 67]\n"
   ]
  },
  {
   "cell_type": "code",
   "execution_count": 41,
   "id": "f855c3c3",
   "metadata": {},
   "outputs": [
    {
     "name": "stdout",
     "output_type": "stream",
     "text": [
      "[0, 2, 3]\n",
      "[0, 1, 2, 3]\n"
     ]
    }
   ],
   "source": []
  },
  {
   "cell_type": "markdown",
   "id": "10e8c1ea",
   "metadata": {},
   "source": [
    "# Break a list into chunks of size N in Python\n",
    "Input: [1, 2, 3, 4, 5,6, 7, 8, 9]\n",
    "Output: [[1, 2, 3, 4], [5, 6, 7, 8], [9]]\n"
   ]
  },
  {
   "cell_type": "code",
   "execution_count": null,
   "id": "afbc1815",
   "metadata": {},
   "outputs": [],
   "source": []
  },
  {
   "cell_type": "markdown",
   "id": "f97fd06e",
   "metadata": {},
   "source": [
    "# Remove common elements from two list in Python"
   ]
  },
  {
   "cell_type": "code",
   "execution_count": 47,
   "id": "9c61765e",
   "metadata": {},
   "outputs": [
    {
     "name": "stdout",
     "output_type": "stream",
     "text": [
      "[2, 4, 5, 8, 10, 14, 16]\n",
      "[3, 9, 15]\n"
     ]
    }
   ],
   "source": [
    "l1=[2,4,5,6,8,10,12,14,16,18]\n",
    "l2=[3,6,9,12,15,18]\n",
    "for i in l1:\n",
    "    if (i in l1) and (i in l2):\n",
    "        l1.remove(i)\n",
    "        l2.remove(i)\n",
    "print(l1)\n",
    "print(l2)"
   ]
  },
  {
   "cell_type": "code",
   "execution_count": 48,
   "id": "14c3ebec",
   "metadata": {},
   "outputs": [
    {
     "data": {
      "text/plain": [
       "[2, 3, 1, 4]"
      ]
     },
     "execution_count": 48,
     "metadata": {},
     "output_type": "execute_result"
    }
   ],
   "source": []
  },
  {
   "cell_type": "code",
   "execution_count": null,
   "id": "ee110dfb",
   "metadata": {},
   "outputs": [],
   "source": []
  }
 ],
 "metadata": {
  "kernelspec": {
   "display_name": "Python 3 (ipykernel)",
   "language": "python",
   "name": "python3"
  },
  "language_info": {
   "codemirror_mode": {
    "name": "ipython",
    "version": 3
   },
   "file_extension": ".py",
   "mimetype": "text/x-python",
   "name": "python",
   "nbconvert_exporter": "python",
   "pygments_lexer": "ipython3",
   "version": "3.9.7"
  }
 },
 "nbformat": 4,
 "nbformat_minor": 5
}
